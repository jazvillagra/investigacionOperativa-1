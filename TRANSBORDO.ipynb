{
 "cells": [
  {
   "cell_type": "markdown",
   "metadata": {},
   "source": [
    "#INVESTIGACION OPERATIVA – FPUNA    \n",
    "#Carrera: LCIK\n",
    "#Prof. Norma B. Silguero B."
   ]
  },
  {
   "cell_type": "markdown",
   "metadata": {},
   "source": [
    "# PROBLEMAS DE TRANSBORDO"
   ]
  },
  {
   "cell_type": "markdown",
   "metadata": {},
   "source": [
    "# Ejercicio 1\n",
    "\n",
    "Una empresa fabrica monitores de alta resolución en dos plantas de producción P1 y P2. Las capacidades de producción por semana son de 80 y 60 unidades, respectivamente. Los monitores se llevan a cuatro centros de ventas (Vi, i = 1, 2, 3 Y 4) que solicitan para la próxima semana 30 unidades para V1, 20 para V2 y 40 para V4. V3 no ha cuantificado su demanda indicando que va a ser muy alta y aceptaría toda la producción. La legislación vigente obliga a la empresa a transportar los monitores de las plantas a los puntos de venta a través de alguno de los dos centros de control de calidad existentes C1 y C2 en los que se\n",
    "controlan los monitores y cuya capacidad es muy grande. El costo de control por unidad en C1 es de 4.000 dólares y en C2 es de 6.000 dólares .\n",
    "Los costos en miles de pesos del transporte unitario de las plantas a los centros de control y de estos a los puntos de venta, aparecen en la tabla siguiente:\n",
    "\n",
    "<img src=\"transbordo1.jpg\">\n",
    "\n",
    "La empresa desea distribuir toda la producción para la semana entrante, sin mostrar preferencia por la utilización de un determinado centro de control o punto de venta, pues su interés reside en minimizar el costo global de transporte. ¿Cuál debe ser la distribución de las plantas a los puntos de venta?\n"
   ]
  },
  {
   "cell_type": "markdown",
   "metadata": {},
   "source": [
    "#Construcción del Modelo\n",
    "\n",
    "<img src=\"red_1.jpg\">\n"
   ]
  },
  {
   "cell_type": "code",
   "execution_count": null,
   "metadata": {},
   "outputs": [],
   "source": []
  },
  {
   "cell_type": "markdown",
   "metadata": {},
   "source": [
    "## El modelo de Programación Lineal es:\n",
    "\n",
    "Las variables de decisión se definirán como: \n",
    "\n",
    "OFERTA ≤ DEMANDA\n",
    "Xij : unidades enviadas del nodo i al nodo j.\n",
    "\n",
    "Minimizar: Costo Total =   12X13 + 11X14 + 10X23 + 9X24 + 4(x13+x23)+ 6(x14+x24) + 22X35 + 20X36 + 24X37 + 20X45 + 19X47 + 23X48\n",
    "\n",
    "Sujeto a:\n",
    "\n",
    "Capacidad de producción de cada departamento \n",
    "\n",
    "           X13 + X23 = 80             Departamento P1\n",
    "           X23 + x24 = 60             Departamento P2\n",
    "\n",
    "Capacidad de Transbordo en cada centro\n",
    "\n",
    "          X13 + X23 = X35 + X36 + X37              Centro Calidad A\n",
    "          X14 + X24 = X45 + X47 + X48              Centro Calidad B\n",
    "\n",
    "Demanda mínima en cada línea\n",
    "\n",
    "           X35 + X45 ≤30 \n",
    "                X46  ≤20\n",
    "           X37 + X47 ≤140\n",
    "                X48  ≤40\n",
    "                \n",
    "Con \n",
    "         Xij ≥ 0 para todo ij."
   ]
  },
  {
   "cell_type": "code",
   "execution_count": null,
   "metadata": {},
   "outputs": [],
   "source": []
  },
  {
   "cell_type": "markdown",
   "metadata": {},
   "source": [
    "# \n",
    "Otra manera de formularlo es, convirtiéndolo en un problema clásico de transporte, así:  Construimosuna  tabla  de  costos  \n",
    "mínimos,  desdecada  origen  Pi  a  cada destino  Vj  señalando  el  centro  de  control  decalidad  Ck,  usado  en  dicha \n",
    "ruta  de mínimo costo\n",
    "<img src=\"cuadro1.png\">\n",
    "\n",
    "\n",
    "Ejemplo: Para enviar monitores desde la planta P1al centro de ventasV1existen dos alternativas:\n",
    "\n",
    "1) P1=> C1=> V1 con costos por \n",
    "unidad de: 12 + 4 + 22 = 382\n",
    "2) P1=> C2=> V1con costos por unidad de: 11 + 6 + 20 = 37* \n",
    "Inscribimos el menor costo de estas dos alternativas en la tabla, especificandoque se hace a través del centro de investigación C2.Por lo tanto, el planteo del modelo lleva a la siguiente tabla\n",
    "<img src=\"cuadro2.jpg\">\n"
   ]
  },
  {
   "cell_type": "markdown",
   "metadata": {},
   "source": [
    "# \n",
    "Igualamos  la  oferta  y  la  demanda  mediante  la  creación  de  una  plantade producción ficticia\n",
    "<img src=\"cuadrotra3.jpg\">"
   ]
  },
  {
   "cell_type": "code",
   "execution_count": 1,
   "metadata": {},
   "outputs": [
    {
     "name": "stdout",
     "output_type": "stream",
     "text": [
      "Min 37 x[1,1] + 35 x[2,1] + 36 x[1,2] + 34 x[2,2] + 36 x[1,3] + 34 x[2,3] + 40 x[1,4] + 38 x[2,4]\n",
      "Subject to\n",
      " x[1,1] >= 0.0\n",
      " x[1,2] >= 0.0\n",
      " x[1,3] >= 0.0\n",
      " x[1,4] >= 0.0\n",
      " x[2,1] >= 0.0\n",
      " x[2,2] >= 0.0\n",
      " x[2,3] >= 0.0\n",
      " x[2,4] >= 0.0\n",
      " x[3,1] >= 0.0\n",
      " x[3,2] >= 0.0\n",
      " x[3,3] >= 0.0\n",
      " x[3,4] >= 0.0\n",
      " x[1,1] + x[1,2] + x[1,3] + x[1,4] == 80.0\n",
      " x[2,1] + x[2,2] + x[2,3] + x[2,4] == 60.0\n",
      " x[3,1] + x[3,2] + x[3,3] + x[3,4] == 90.0\n",
      " x[1,1] + x[2,1] + x[3,1] == 30.0\n",
      " x[1,2] + x[2,2] + x[3,2] == 20.0\n",
      " x[1,3] + x[2,3] + x[3,3] == 140.0\n",
      " x[1,4] + x[2,4] + x[3,4] == 40.0\n",
      "Valor func objetivo, El costo minimo es :4920.0\n",
      "las asignaciones son\n",
      "x[1,1] = 0.0\n",
      "x[1,2] = 20.0\n",
      "x[1,3] = 60.0\n",
      "x[1,4] = 0.0\n",
      "x[2,1] = 0.0\n",
      "x[2,2] = 0.0\n",
      "x[2,3] = 60.0\n",
      "x[2,4] = 0.0\n",
      "x[3,1] = 30.0\n",
      "x[3,2] = 0.0\n",
      "x[3,3] = 20.0\n",
      "x[3,4] = 40.0\n",
      "Coin0506I Presolve 7 (0) rows, 12 (0) columns and 24 (0) elements\n",
      "Clp0006I 0  Obj 0 Primal inf 460 (7)\n",
      "Clp0006I 7  Obj 4920\n",
      "Clp0000I Optimal - objective value 4920\n",
      "Clp0032I Optimal objective 4920 - 7 iterations time 0.002\n"
     ]
    }
   ],
   "source": [
    "using JuMP, Clp, LinearAlgebra\n",
    "trans = Model(with_optimizer(Clp.Optimizer))\n",
    "\n",
    "costo=[37 36 36 40;\n",
    "       35 34 34 38;\n",
    "       0 0 0 0]\n",
    "demanda=[30 20 140 40]\n",
    "oferta=[80;\n",
    "        60; \n",
    "        90]\n",
    "\n",
    "@variable(trans,x[1:3,1:4]>=0 )  \n",
    "@objective(trans,Min,sum(x.*costo))\n",
    "for i=1:3\n",
    "    @constraint(trans,sum(x[i,j] for j=1:4)==oferta[i])\n",
    "end\n",
    "for j=1:4\n",
    "@constraint(trans,sum(x[i,j] for i=1:3)==demanda[j])\n",
    "end \n",
    "print(trans)\n",
    "JuMP.optimize!(trans)\n",
    "obj_value=JuMP.objective_value(trans)\n",
    "\n",
    "println(\"Valor func objetivo, El costo minimo es :\", obj_value)\n",
    "\n",
    "\n",
    "println(\"las asignaciones son\")\n",
    "for i in 1:3\n",
    "    for j=1:4\n",
    "        println( \"x[\",i,\",\",j, \"] = $(JuMP.value(x[i,j] ))\")  \n",
    "    end\n",
    "end"
   ]
  },
  {
   "cell_type": "markdown",
   "metadata": {},
   "source": [
    "#\n",
    "Desde la planta de producción P1, enviar 20 monitores de alta resoluciónal centro de ventas V2, a través del centro de control \n",
    "de calidadC1.\n",
    "Desde  la  planta  de  producción  P1,  enviar  60  unidades  al  centro  de  ventasV3,  a través del centro de \n",
    "control de calidad C2.\n",
    "Desde  la  planta  de  producción  P2,  enviar  60  unidades  al  centro  de  ventasV3, a través del centro\n",
    "de control de calidad C2.\n",
    "\n",
    "Graficamente:\n",
    "\n",
    "<img src=\"grafico.jpg\">\n",
    "\n",
    "\n",
    "\n"
   ]
  },
  {
   "cell_type": "markdown",
   "metadata": {},
   "source": [
    "\n",
    "# Costos Totales: \n",
    "\n",
    "20(12) + 20( 4) + 20(20) = 720\n",
    "\n",
    "60(11) + 60( 6) + 60(19) = 2 160\n",
    "\n",
    "60( 9) + 60( 6) + 60(19) = 2 040\n",
    "\n",
    "                           4 920"
   ]
  },
  {
   "cell_type": "code",
   "execution_count": null,
   "metadata": {},
   "outputs": [],
   "source": []
  }
 ],
 "metadata": {
  "kernelspec": {
   "display_name": "Julia 1.1.1",
   "language": "julia",
   "name": "julia-1.1"
  },
  "language_info": {
   "file_extension": ".jl",
   "mimetype": "application/julia",
   "name": "julia",
   "version": "1.1.1"
  }
 },
 "nbformat": 4,
 "nbformat_minor": 2
}
