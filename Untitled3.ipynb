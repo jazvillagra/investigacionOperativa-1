{
 "cells": [
  {
   "cell_type": "code",
   "execution_count": 6,
   "metadata": {},
   "outputs": [
    {
     "name": "stdout",
     "output_type": "stream",
     "text": [
      "\u001b[32m\u001b[1m Resolving\u001b[22m\u001b[39m package versions...\n",
      "\u001b[32m\u001b[1m  Updating\u001b[22m\u001b[39m `~/.julia/environments/v1.0/Project.toml`\n",
      "\u001b[90m [no changes]\u001b[39m\n",
      "\u001b[32m\u001b[1m  Updating\u001b[22m\u001b[39m `~/.julia/environments/v1.0/Manifest.toml`\n",
      "\u001b[90m [no changes]\u001b[39m\n",
      "\u001b[32m\u001b[1m Resolving\u001b[22m\u001b[39m package versions...\n",
      "\u001b[32m\u001b[1m  Updating\u001b[22m\u001b[39m `~/.julia/environments/v1.0/Project.toml`\n",
      "\u001b[90m [no changes]\u001b[39m\n",
      "\u001b[32m\u001b[1m  Updating\u001b[22m\u001b[39m `~/.julia/environments/v1.0/Manifest.toml`\n",
      "\u001b[90m [no changes]\u001b[39m\n",
      "\u001b[32m\u001b[1m Resolving\u001b[22m\u001b[39m package versions...\n",
      "\u001b[32m\u001b[1m  Updating\u001b[22m\u001b[39m `~/.julia/environments/v1.0/Project.toml`\n",
      "\u001b[90m [no changes]\u001b[39m\n",
      "\u001b[32m\u001b[1m  Updating\u001b[22m\u001b[39m `~/.julia/environments/v1.0/Manifest.toml`\n",
      "\u001b[90m [no changes]\u001b[39m\n",
      "\u001b[32m\u001b[1m Resolving\u001b[22m\u001b[39m package versions...\n",
      "\u001b[32m\u001b[1m  Updating\u001b[22m\u001b[39m `~/.julia/environments/v1.0/Project.toml`\n",
      "\u001b[90m [no changes]\u001b[39m\n",
      "\u001b[32m\u001b[1m  Updating\u001b[22m\u001b[39m `~/.julia/environments/v1.0/Manifest.toml`\n",
      "\u001b[90m [no changes]\u001b[39m\n",
      "\u001b[32m\u001b[1m Resolving\u001b[22m\u001b[39m package versions...\n",
      "\u001b[32m\u001b[1m  Updating\u001b[22m\u001b[39m `~/.julia/environments/v1.0/Project.toml`\n",
      "\u001b[90m [no changes]\u001b[39m\n",
      "\u001b[32m\u001b[1m  Updating\u001b[22m\u001b[39m `~/.julia/environments/v1.0/Manifest.toml`\n",
      "\u001b[90m [no changes]\u001b[39m\n",
      "\u001b[32m\u001b[1m Resolving\u001b[22m\u001b[39m package versions...\n",
      "\u001b[32m\u001b[1m  Updating\u001b[22m\u001b[39m `~/.julia/environments/v1.0/Project.toml`\n",
      "\u001b[90m [no changes]\u001b[39m\n",
      "\u001b[32m\u001b[1m  Updating\u001b[22m\u001b[39m `~/.julia/environments/v1.0/Manifest.toml`\n",
      "\u001b[90m [no changes]\u001b[39m\n"
     ]
    },
    {
     "ename": "ErrorException",
     "evalue": "The objective function `GenericAffExpr{Float64,VariableRef}[100 x[1] 155 x[1] 50 x[1] 112 x[1] 70 x[1] 80 x[1] 60 x[1] 118 x[1] 110 x[1] 55 x[1]; 100 x[2] 155 x[2] 50 x[2] 112 x[2] 70 x[2] 80 x[2] 60 x[2] 118 x[2] 110 x[2] 55 x[2]; 100 x[3] 155 x[3] 50 x[3] 112 x[3] 70 x[3] 80 x[3] 60 x[3] 118 x[3] 110 x[3] 55 x[3]; 100 x[4] 155 x[4] 50 x[4] 112 x[4] 70 x[4] 80 x[4] 60 x[4] 118 x[4] 110 x[4] 55 x[4]; 100 x[5] 155 x[5] 50 x[5] 112 x[5] 70 x[5] 80 x[5] 60 x[5] 118 x[5] 110 x[5] 55 x[5]; 100 x[6] 155 x[6] 50 x[6] 112 x[6] 70 x[6] 80 x[6] 60 x[6] 118 x[6] 110 x[6] 55 x[6]; 100 x[7] 155 x[7] 50 x[7] 112 x[7] 70 x[7] 80 x[7] 60 x[7] 118 x[7] 110 x[7] 55 x[7]; 100 x[8] 155 x[8] 50 x[8] 112 x[8] 70 x[8] 80 x[8] 60 x[8] 118 x[8] 110 x[8] 55 x[8]; 100 x[9] 155 x[9] 50 x[9] 112 x[9] 70 x[9] 80 x[9] 60 x[9] 118 x[9] 110 x[9] 55 x[9]; 100 x[10] 155 x[10] 50 x[10] 112 x[10] 70 x[10] 80 x[10] 60 x[10] 118 x[10] 110 x[10] 55 x[10]]` is not supported by JuMP.",
     "output_type": "error",
     "traceback": [
      "The objective function `GenericAffExpr{Float64,VariableRef}[100 x[1] 155 x[1] 50 x[1] 112 x[1] 70 x[1] 80 x[1] 60 x[1] 118 x[1] 110 x[1] 55 x[1]; 100 x[2] 155 x[2] 50 x[2] 112 x[2] 70 x[2] 80 x[2] 60 x[2] 118 x[2] 110 x[2] 55 x[2]; 100 x[3] 155 x[3] 50 x[3] 112 x[3] 70 x[3] 80 x[3] 60 x[3] 118 x[3] 110 x[3] 55 x[3]; 100 x[4] 155 x[4] 50 x[4] 112 x[4] 70 x[4] 80 x[4] 60 x[4] 118 x[4] 110 x[4] 55 x[4]; 100 x[5] 155 x[5] 50 x[5] 112 x[5] 70 x[5] 80 x[5] 60 x[5] 118 x[5] 110 x[5] 55 x[5]; 100 x[6] 155 x[6] 50 x[6] 112 x[6] 70 x[6] 80 x[6] 60 x[6] 118 x[6] 110 x[6] 55 x[6]; 100 x[7] 155 x[7] 50 x[7] 112 x[7] 70 x[7] 80 x[7] 60 x[7] 118 x[7] 110 x[7] 55 x[7]; 100 x[8] 155 x[8] 50 x[8] 112 x[8] 70 x[8] 80 x[8] 60 x[8] 118 x[8] 110 x[8] 55 x[8]; 100 x[9] 155 x[9] 50 x[9] 112 x[9] 70 x[9] 80 x[9] 60 x[9] 118 x[9] 110 x[9] 55 x[9]; 100 x[10] 155 x[10] 50 x[10] 112 x[10] 70 x[10] 80 x[10] 60 x[10] 118 x[10] 110 x[10] 55 x[10]]` is not supported by JuMP.",
      "",
      "Stacktrace:",
      " [1] error(::String) at ./error.jl:33",
      " [2] set_objective(::Model, ::MathOptInterface.OptimizationSense, ::Array{GenericAffExpr{Float64,VariableRef},2}) at /home/mfare/.julia/packages/JuMP/ibcEh/src/objective.jl:92",
      " [3] top-level scope at /home/mfare/.julia/packages/JuMP/ibcEh/src/macros.jl:996",
      " [4] top-level scope at In[6]:21"
     ]
    }
   ],
   "source": [
    "##Clase fecha 01-10.2019 Dualidad\n",
    "import Pkg\n",
    "Pkg.add(\"JuMP\")\n",
    "Pkg.add(\"CSV\")\n",
    "Pkg.add(\"Clp\")\n",
    "Pkg.add(\"GLPK\")\n",
    "Pkg.add(\"DataFrames\")\n",
    "Pkg.add(\"LinearAlgebra\")\n",
    "\n",
    "#using JuMP, CSV, Clp, GLPK, DataFrames, LinearAlgebra\n",
    "using JuMP, Clp, LinearAlgebra\n",
    "m = Model(with_optimizer(Clp.Optimizer))\n",
    "\n",
    "costo=[100 155 50 112 70 80 60 118 110 55]\n",
    "demanda=700\n",
    "oferta=[80;\n",
    "        60; \n",
    "        90]\n",
    "\n",
    "@variable(m,x[1:10]>=0 )\n",
    "\n",
    "@objective(m,Max,x.*costo)\n",
    "\n",
    "for i=1:10\n",
    "    @constraint(m,sum(x[i])<=700)\n",
    "end\n",
    "\n",
    "            \n",
    "print(m)\n",
    "#Para reslver el modelo\n",
    "#JuMP.optimize!(trans)\n",
    "                        #valor de la funcion objetiv\n",
    "#obj_value=JuMP.objective_value(trans)\n",
    "\n",
    "#println(\"Valor func objetivo, El costo minimo es :\", obj_value)\n",
    "\n",
    "\n",
    "#println(\"las asignaciones son\")\n",
    "#for i in 1:3\n",
    "#    for j=1:4\n",
    "#        println( \"x[\",i,\",\",j, \"] = $(JuMP.value(x[i,j] ))\")  \n",
    "#    end\n",
    "#end"
   ]
  },
  {
   "cell_type": "code",
   "execution_count": null,
   "metadata": {},
   "outputs": [],
   "source": []
  }
 ],
 "metadata": {
  "kernelspec": {
   "display_name": "Julia 1.0.4",
   "language": "julia",
   "name": "julia-1.0"
  },
  "language_info": {
   "file_extension": ".jl",
   "mimetype": "application/julia",
   "name": "julia",
   "version": "1.0.4"
  }
 },
 "nbformat": 4,
 "nbformat_minor": 2
}
