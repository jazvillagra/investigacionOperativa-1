{
 "cells": [
  {
   "cell_type": "code",
   "execution_count": 4,
   "metadata": {},
   "outputs": [
    {
     "name": "stdout",
     "output_type": "stream",
     "text": [
      "Min 92 x[1,1] + 91 x[2,1] + 87 x[3,1] + 89 x[1,2] + 91 x[2,2] + 90 x[3,2] + 90 x[1,3] + 95 x[2,3] + 92 x[3,3]\n",
      "Subject to\n",
      " x[1,1] ≥ 0.0\n",
      " x[1,2] ≥ 0.0\n",
      " x[1,3] ≥ 0.0\n",
      " x[2,1] ≥ 0.0\n",
      " x[2,2] ≥ 0.0\n",
      " x[2,3] ≥ 0.0\n",
      " x[3,1] ≥ 0.0\n",
      " x[3,2] ≥ 0.0\n",
      " x[3,3] ≥ 0.0\n",
      " x[1,1] + x[2,1] + x[3,1] ≥ 100000.0\n",
      " x[1,2] + x[2,2] + x[3,2] ≥ 180000.0\n",
      " x[1,3] + x[2,3] + x[3,3] ≥ 350000.0\n",
      " x[1,1] + x[1,2] + x[1,3] ≤ 320000.0\n",
      " x[2,1] + x[2,2] + x[2,3] ≤ 270000.0\n",
      " x[3,1] + x[3,2] + x[3,3] ≤ 190000.0\n",
      "Valor func objetivo, El costo minimo es :5.658e7\n",
      "las asignaciones son\n",
      "x[1,1] = 0.0\n",
      "x[1,2] = 0.0\n",
      "x[1,3] = 320000.0\n",
      "x[2,1] = 0.0\n",
      "x[2,2] = 120000.0\n",
      "x[2,3] = 0.0\n",
      "x[3,1] = 100000.0\n",
      "x[3,2] = 60000.0\n",
      "x[3,3] = 30000.0\n",
      "Coin0506I Presolve 6 (0) rows, 9 (0) columns and 18 (0) elements\n",
      "Clp0006I 0  Obj 0 Primal inf 630000 (3)\n",
      "Clp0006I 6  Obj 56580000\n",
      "Clp0000I Optimal - objective value 56580000\n",
      "Clp0032I Optimal objective 56580000 - 6 iterations time 0.002\n"
     ]
    }
   ],
   "source": [
    "using JuMP, Clp, LinearAlgebra\n",
    "child = Model(with_optimizer(Clp.Optimizer))\n",
    "\n",
    "costo=[92 89 90;\n",
    "       91 91 95;\n",
    "       87 90 92]\n",
    "demanda=[100000 180000 350000]\n",
    "oferta=[320000;\n",
    "        270000; \n",
    "        190000]\n",
    "\n",
    "@variable(child,x[1:3,1:3]>=0 )  \n",
    "@objective(child,Min,sum(x.*costo))\n",
    "for i=1:3\n",
    "    @constraint(child,sum(x[i,j] for j=1:3)<=oferta[i])\n",
    "end\n",
    "for j=1:3\n",
    "@constraint(child,sum(x[i,j] for i=1:3)>=demanda[j])\n",
    "end \n",
    "print(child)\n",
    "JuMP.optimize!(child)\n",
    "obj_value=JuMP.objective_value(child)\n",
    "\n",
    "println(\"Valor func objetivo, El costo minimo es :\", obj_value)\n",
    "\n",
    "\n",
    "println(\"las asignaciones son\")\n",
    "for i in 1:3\n",
    "    for j=1:3\n",
    "        println( \"x[\",i,\",\",j, \"] = $(JuMP.value(x[i,j] ))\")  \n",
    "    end\n",
    "end"
   ]
  },
  {
   "cell_type": "code",
   "execution_count": null,
   "metadata": {},
   "outputs": [],
   "source": []
  }
 ],
 "metadata": {
  "kernelspec": {
   "display_name": "Julia 1.1.1",
   "language": "julia",
   "name": "julia-1.1"
  },
  "language_info": {
   "file_extension": ".jl",
   "mimetype": "application/julia",
   "name": "julia",
   "version": "1.1.1"
  }
 },
 "nbformat": 4,
 "nbformat_minor": 2
}
