{
 "cells": [
  {
   "cell_type": "code",
   "execution_count": 16,
   "metadata": {},
   "outputs": [
    {
     "ename": "DimensionMismatch",
     "evalue": "DimensionMismatch(\"arrays could not be broadcast to a common size\")",
     "output_type": "error",
     "traceback": [
      "DimensionMismatch(\"arrays could not be broadcast to a common size\")",
      "",
      "Stacktrace:",
      " [1] materialize(::Base.Broadcast.Broadcasted{Base.Broadcast.DefaultArrayStyle{2},Nothing,typeof(*),Tuple{Array{VariableRef,2},Array{Int64,2}}}) at ./broadcast.jl:439",
      " [2] top-level scope at /home/mfare/.julia/packages/JuMP/ibcEh/src/macros.jl:995",
      " [3] top-level scope at In[16]:18"
     ]
    }
   ],
   "source": [
    "using JuMP, CSV, Clp, GLPK, DataFrames, LinearAlgebra\n",
    "\n",
    "\n",
    "\n",
    "\n",
    "\n",
    "child = Model(with_optimizer(Clp.Optimizer))\n",
    "\n",
    "costo=[ 600 700 400;\n",
    "        320 300 350;\n",
    "        500 480 450]\n",
    "demanda=[30 35 30]\n",
    "oferta=[25;\n",
    "        40; \n",
    "        30]\n",
    "\n",
    "@variable(child,x[1:3,1:4]>=0 )  \n",
    "@objective(child,Min,sum(x.*costo))\n",
    "for i=1:3\n",
    "    @constraint(child,sum(x[i,j] for j=1:3)<=oferta[i])\n",
    "end\n",
    "for j=1:3\n",
    "@constraint(child,sum(x[i,j] for i=1:3)<=demanda[j])\n",
    "end \n",
    "print(child)\n",
    "JuMP.optimize!(child)\n",
    "obj_value=JuMP.objective_value(child)\n",
    "\n",
    "println(\"Valor func objetivo, El costo minimo es :\", obj_value)\n",
    "\n",
    "\n",
    "println(\"las asignaciones son\")\n",
    "for i in 1:3\n",
    "    for j=1:3\n",
    "        println( \"x[\",i,\",\",j, \"] = $(JuMP.value(x[i,j] ))\")  \n",
    "    end\n",
    "end"
   ]
  },
  {
   "cell_type": "code",
   "execution_count": null,
   "metadata": {},
   "outputs": [],
   "source": []
  }
 ],
 "metadata": {
  "kernelspec": {
   "display_name": "Julia 1.0.4",
   "language": "julia",
   "name": "julia-1.0"
  },
  "language_info": {
   "file_extension": ".jl",
   "mimetype": "application/julia",
   "name": "julia",
   "version": "1.0.4"
  }
 },
 "nbformat": 4,
 "nbformat_minor": 2
}
